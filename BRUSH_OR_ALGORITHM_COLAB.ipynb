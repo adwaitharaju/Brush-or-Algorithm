{
  "cells": [
    {
      "cell_type": "code",
      "execution_count": null,
      "metadata": {
        "colab": {
          "base_uri": "https://localhost:8080/"
        },
        "id": "aJWb-yjrRxcx",
        "outputId": "a2366ae7-0b4c-4ce0-ffab-a31c4c838566"
      },
      "outputs": [
        {
          "name": "stdout",
          "output_type": "stream",
          "text": [
            "Mounted at /content/drive\n"
          ]
        }
      ],
      "source": [
        "from google.colab import drive\n",
        "drive.mount('/content/drive')"
      ]
    },
    {
      "cell_type": "code",
      "execution_count": null,
      "metadata": {
        "id": "WVuZeErGED6J",
        "collapsed": true
      },
      "outputs": [],
      "source": [
        "#Dataset Loading and preprocessing\n",
        "import os\n",
        "import cv2\n",
        "import numpy as np\n",
        "from google.colab import drive\n",
        "from sklearn.model_selection import train_test_split\n",
        "\n",
        "drive.mount('/content/drive')\n",
        "\n",
        "DATASET_PATH = \"/content/drive/MyDrive/\"\n",
        "AI_DIR = os.path.join(DATASET_PATH, \"AI_GENERATED\")\n",
        "HUMAN_DIR = os.path.join(DATASET_PATH, \"NON_AI_GENERATED\")\n",
        "\n",
        "IMG_SIZE = 224  # Standard size for CNN input\n",
        "\n",
        "# to load images\n",
        "def load_images(folder, label):\n",
        "    data = []\n",
        "    for file in os.listdir(folder):\n",
        "        img_path = os.path.join(folder, file)\n",
        "\n",
        "        # Read image with OpenCV\n",
        "        img = cv2.imread(img_path)\n",
        "\n",
        "        # Handle potential issues with loading images\n",
        "        if img is None:\n",
        "            print(f\"Skipping invalid image: {img_path}\")\n",
        "            continue\n",
        "\n",
        "        # Resize image to match model input size\n",
        "        img = cv2.resize(img, (IMG_SIZE, IMG_SIZE))\n",
        "\n",
        "        # Convert to RGB\n",
        "        img = cv2.cvtColor(img, cv2.COLOR_BGR2RGB)\n",
        "\n",
        "        # Append image and corresponding label\n",
        "        data.append((img, label))\n",
        "\n",
        "    return data\n",
        "\n",
        "# Load both AI-generated and human-created images\n",
        "ai_images = load_images(AI_DIR, 1)\n",
        "human_images = load_images(HUMAN_DIR, 0)\n",
        "\n",
        "# Combine datasets and shuffle\n",
        "dataset = ai_images + human_images\n",
        "np.random.shuffle(dataset)\n",
        "\n",
        "# Prepare input and labels\n",
        "X, y = zip(*dataset)\n",
        "X = np.array(X) / 255.0  # Normalize pixel values (0-1)\n",
        "y = np.array(y)\n",
        "\n",
        "# Split into training and testing sets\n",
        "X_train, X_test, y_train, y_test = train_test_split(X, y, test_size=0.2, random_state=42)\n",
        "\n",
        "# Save dataset in Drive for future use\n",
        "np.save(\"/content/drive/MyDrive/X_train.npy\", X_train)\n",
        "np.save(\"/content/drive/MyDrive/X_test.npy\", X_test)\n",
        "np.save(\"/content/drive/MyDrive/y_train.npy\", y_train)\n",
        "np.save(\"/content/drive/MyDrive/y_test.npy\", y_test)\n",
        "\n",
        "print(f\"Dataset saved! Training samples: {len(X_train)}, Testing samples: {len(X_test)}\")"
      ]
    },
    {
      "cell_type": "code",
      "execution_count": null,
      "metadata": {
        "colab": {
          "base_uri": "https://localhost:8080/"
        },
        "id": "YqUxc_E1QlAt",
        "outputId": "2866a873-0d9c-44d8-8b82-ee20a8e4cae5"
      },
      "outputs": [
        {
          "name": "stdout",
          "output_type": "stream",
          "text": [
            "X_train shape: (2497, 224, 224, 3)\n",
            "y_train shape: (2497,)\n",
            "X_test shape: (625, 224, 224, 3)\n",
            "y_test shape: (625,)\n"
          ]
        },
        {
          "name": "stderr",
          "output_type": "stream",
          "text": [
            "/usr/local/lib/python3.11/dist-packages/keras/src/layers/convolutional/base_conv.py:107: UserWarning: Do not pass an `input_shape`/`input_dim` argument to a layer. When using Sequential models, prefer using an `Input(shape)` object as the first layer in the model instead.\n",
            "  super().__init__(activity_regularizer=activity_regularizer, **kwargs)\n"
          ]
        },
        {
          "name": "stdout",
          "output_type": "stream",
          "text": [
            "Epoch 1/10\n",
            "\u001b[1m79/79\u001b[0m \u001b[32m━━━━━━━━━━━━━━━━━━━━\u001b[0m\u001b[37m\u001b[0m \u001b[1m262s\u001b[0m 3s/step - accuracy: 0.6349 - loss: 0.6502 - val_accuracy: 0.8080 - val_loss: 0.4191\n",
            "Epoch 2/10\n",
            "\u001b[1m79/79\u001b[0m \u001b[32m━━━━━━━━━━━━━━━━━━━━\u001b[0m\u001b[37m\u001b[0m \u001b[1m278s\u001b[0m 4s/step - accuracy: 0.8158 - loss: 0.3851 - val_accuracy: 0.8352 - val_loss: 0.3637\n",
            "Epoch 3/10\n",
            "\u001b[1m79/79\u001b[0m \u001b[32m━━━━━━━━━━━━━━━━━━━━\u001b[0m\u001b[37m\u001b[0m \u001b[1m298s\u001b[0m 3s/step - accuracy: 0.8490 - loss: 0.3278 - val_accuracy: 0.8528 - val_loss: 0.3318\n",
            "Epoch 4/10\n",
            "\u001b[1m79/79\u001b[0m \u001b[32m━━━━━━━━━━━━━━━━━━━━\u001b[0m\u001b[37m\u001b[0m \u001b[1m253s\u001b[0m 3s/step - accuracy: 0.8769 - loss: 0.2855 - val_accuracy: 0.8320 - val_loss: 0.3529\n",
            "Epoch 5/10\n",
            "\u001b[1m79/79\u001b[0m \u001b[32m━━━━━━━━━━━━━━━━━━━━\u001b[0m\u001b[37m\u001b[0m \u001b[1m299s\u001b[0m 4s/step - accuracy: 0.8836 - loss: 0.2717 - val_accuracy: 0.8592 - val_loss: 0.3147\n",
            "Epoch 6/10\n",
            "\u001b[1m79/79\u001b[0m \u001b[32m━━━━━━━━━━━━━━━━━━━━\u001b[0m\u001b[37m\u001b[0m \u001b[1m287s\u001b[0m 3s/step - accuracy: 0.9027 - loss: 0.2295 - val_accuracy: 0.8560 - val_loss: 0.3086\n",
            "Epoch 7/10\n",
            "\u001b[1m79/79\u001b[0m \u001b[32m━━━━━━━━━━━━━━━━━━━━\u001b[0m\u001b[37m\u001b[0m \u001b[1m259s\u001b[0m 3s/step - accuracy: 0.9243 - loss: 0.2009 - val_accuracy: 0.8192 - val_loss: 0.3888\n",
            "Epoch 8/10\n",
            "\u001b[1m79/79\u001b[0m \u001b[32m━━━━━━━━━━━━━━━━━━━━\u001b[0m\u001b[37m\u001b[0m \u001b[1m271s\u001b[0m 3s/step - accuracy: 0.9152 - loss: 0.2159 - val_accuracy: 0.8640 - val_loss: 0.2975\n",
            "Epoch 9/10\n",
            "\u001b[1m79/79\u001b[0m \u001b[32m━━━━━━━━━━━━━━━━━━━━\u001b[0m\u001b[37m\u001b[0m \u001b[1m258s\u001b[0m 3s/step - accuracy: 0.9497 - loss: 0.1566 - val_accuracy: 0.8528 - val_loss: 0.3303\n",
            "Epoch 10/10\n",
            "\u001b[1m79/79\u001b[0m \u001b[32m━━━━━━━━━━━━━━━━━━━━\u001b[0m\u001b[37m\u001b[0m \u001b[1m262s\u001b[0m 3s/step - accuracy: 0.9485 - loss: 0.1460 - val_accuracy: 0.8544 - val_loss: 0.3144\n"
          ]
        },
        {
          "name": "stderr",
          "output_type": "stream",
          "text": [
            "WARNING:absl:You are saving your model as an HDF5 file via `model.save()` or `keras.saving.save_model(model)`. This file format is considered legacy. We recommend using instead the native Keras format, e.g. `model.save('my_model.keras')` or `keras.saving.save_model(model, 'my_model.keras')`. \n"
          ]
        }
      ],
      "source": [
        "#CNN MODEL DEFINITION AND TRAINING\n",
        "import tensorflow as tf\n",
        "from tensorflow.keras.models import Sequential\n",
        "from tensorflow.keras.layers import Conv2D, MaxPooling2D, Flatten, Dense, Dropout\n",
        "from tensorflow.keras.optimizers import Adam\n",
        "import numpy as np\n",
        "import os\n",
        "# Mount Google Drive\n",
        "import numpy as np\n",
        "\n",
        "# Load dataset correctly\n",
        "X_train = np.load(\"/content/drive/MyDrive/X_train.npy\", allow_pickle=True)\n",
        "X_test = np.load(\"/content/drive/MyDrive/X_test.npy\", allow_pickle=True)\n",
        "y_train = np.load(\"/content/drive/MyDrive/y_train.npy\", allow_pickle=True)\n",
        "y_test = np.load(\"/content/drive/MyDrive/y_test.npy\", allow_pickle=True)\n",
        "\n",
        "# Print shape to confirm data is loaded correctly\n",
        "print(\"X_train shape:\", X_train.shape)\n",
        "print(\"y_train shape:\", y_train.shape)\n",
        "print(\"X_test shape:\", X_test.shape)\n",
        "print(\"y_test shape:\", y_test.shape)\n",
        "\n",
        "\n",
        "# Define CNN model\n",
        "model = Sequential([\n",
        "    Conv2D(32, (3, 3), activation='relu', input_shape=(224, 224, 3)),\n",
        "    MaxPooling2D(2, 2),\n",
        "    Conv2D(64, (3, 3), activation='relu'),\n",
        "    MaxPooling2D(2, 2),\n",
        "    Flatten(),\n",
        "    Dense(128, activation='relu'),\n",
        "    Dropout(0.5),\n",
        "    Dense(1, activation='sigmoid')  # Binary classification (AI vs Human)\n",
        "])\n",
        "\n",
        "# Compile model\n",
        "model.compile(optimizer=Adam(learning_rate=0.0001), loss=\"binary_crossentropy\", metrics=[\"accuracy\"])\n",
        "\n",
        "# Train model\n",
        "model.fit(X_train, y_train, validation_data=(X_test, y_test), epochs=10, batch_size=32)\n",
        "\n",
        "# Save trained model\n",
        "model.save(\"/content/drive/MyDrive/ai_art_classifier.h5\")\n",
        "\n"
      ]
    },
    {
      "cell_type": "code",
      "execution_count": null,
      "metadata": {
        "colab": {
          "background_save": true
        },
        "id": "YWHVc81e29Z-"
      },
      "outputs": [],
      "source": [
        "#GE-CNN MODEL DEFINITION AND TRAINING\n",
        "import tensorflow as tf\n",
        "from tensorflow.keras.models import Model\n",
        "from tensorflow.keras.layers import Input, Conv2D, Multiply, MaxPooling2D, Flatten, Dense, Dropout\n",
        "from tensorflow.keras.optimizers import Adam\n",
        "import numpy as np\n",
        "from google.colab import drive\n",
        "\n",
        "drive.mount('/content/drive')\n",
        "\n",
        "\n",
        "# Load dataset\n",
        "X_train = np.load(\"/content/drive/MyDrive/X_train.npy\", allow_pickle=True)\n",
        "X_test = np.load(\"/content/drive/MyDrive/X_test.npy\", allow_pickle=True)\n",
        "y_train = np.load(\"/content/drive/MyDrive/y_train.npy\", allow_pickle=True)\n",
        "y_test = np.load(\"/content/drive/MyDrive/y_test.npy\", allow_pickle=True)\n",
        "\n",
        "# Print shapes\n",
        "print(\"X_train shape:\", X_train.shape)\n",
        "print(\"y_train shape:\", y_train.shape)\n",
        "print(\"X_test shape:\", X_test.shape)\n",
        "print(\"y_test shape:\", y_test.shape)\n",
        "\n",
        "# Define gated convolution block\n",
        "def gated_conv2d(x, filters, kernel_size, strides=(1,1), padding='same'):\n",
        "    conv_feature = Conv2D(filters, kernel_size, strides=strides, padding=padding, activation='relu')(x)\n",
        "    conv_gate = Conv2D(filters, kernel_size, strides=strides, padding=padding, activation='sigmoid')(x)\n",
        "    return Multiply()([conv_feature, conv_gate])\n",
        "\n",
        "# Build GCNN model\n",
        "input_layer = Input(shape=(224, 224, 3))\n",
        "x = gated_conv2d(input_layer, 32, (3, 3))\n",
        "x = MaxPooling2D((2, 2))(x)\n",
        "x = gated_conv2d(x, 64, (3, 3))\n",
        "x = MaxPooling2D((2, 2))(x)\n",
        "x = Flatten()(x)\n",
        "x = Dense(128, activation='relu')(x)\n",
        "x = Dropout(0.5)(x)\n",
        "output_layer = Dense(1, activation='sigmoid')(x)\n",
        "\n",
        "model = Model(inputs=input_layer, outputs=output_layer)\n",
        "\n",
        "# Compile model\n",
        "model.compile(optimizer=Adam(learning_rate=0.0001), loss=\"binary_crossentropy\", metrics=[\"accuracy\"])\n",
        "\n",
        "# Train model\n",
        "model.fit(X_train, y_train, validation_data=(X_test, y_test), epochs=10, batch_size=32)\n",
        "\n",
        "# Save model\n",
        "model.save(\"/content/drive/MyDrive/ai_art_classifier_gcnn.h5\")\n"
      ]
    },
    {
      "cell_type": "code",
      "execution_count": null,
      "metadata": {
        "colab": {
          "base_uri": "https://localhost:8080/"
        },
        "id": "b0DbtDgL96KO",
        "outputId": "054cfd74-e05a-4009-d6a8-f31926b35221"
      },
      "outputs": [
        {
          "name": "stderr",
          "output_type": "stream",
          "text": [
            "WARNING:absl:You are saving your model as an HDF5 file via `model.save()` or `keras.saving.save_model(model)`. This file format is considered legacy. We recommend using instead the native Keras format, e.g. `model.save('my_model.keras')` or `keras.saving.save_model(model, 'my_model.keras')`. \n"
          ]
        }
      ],
      "source": [
        "model.save(\"/content/drive/MyDrive/ai_art_classifier.h5\")\n"
      ]
    },
    {
      "cell_type": "code",
      "source": [
        "#ACCURACY MEASUREMENTS FOR CNN MODEL\n",
        "import numpy as np\n",
        "import matplotlib.pyplot as plt\n",
        "import seaborn as sns\n",
        "from tensorflow.keras.models import load_model\n",
        "from sklearn.metrics import classification_report, confusion_matrix\n",
        "from google.colab import drive\n",
        "\n",
        "drive.mount('/content/drive')\n",
        "\n",
        "\n",
        "# Load the trained model\n",
        "model_path = \"/content/drive/MyDrive/ai_art_classifier.h5\"\n",
        "model = load_model(model_path)\n",
        "\n",
        "# Load test dataset\n",
        "X_test = np.load(\"/content/drive/MyDrive/X_test.npy\")\n",
        "y_test = np.load(\"/content/drive/MyDrive/y_test.npy\")\n",
        "\n",
        "# Evaluate model performance\n",
        "test_loss, test_accuracy = model.evaluate(X_test, y_test)\n",
        "print(f\"Test Accuracy: {test_accuracy * 100:.2f}%\")\n",
        "print(f\"Test Loss: {test_loss:.4f}\")\n",
        "\n",
        "# Make predictions\n",
        "y_pred_prob = model.predict(X_test)  # Get probability scores\n",
        "y_pred = (y_pred_prob >= 0.5).astype(int)  # Convert probabilities to binary labels\n",
        "\n",
        "# Generate classification report\n",
        "print(\"\\nClassification Report:\")\n",
        "print(classification_report(y_test, y_pred, target_names=[\"Human Art\", \"AI Art\"]))\n",
        "\n",
        "# Compute confusion matrix\n",
        "cm = confusion_matrix(y_test, y_pred)\n",
        "\n",
        "# Plot confusion matrix\n",
        "plt.figure(figsize=(6, 5))\n",
        "sns.heatmap(cm, annot=True, fmt=\"d\", cmap=\"Blues\", xticklabels=[\"Human Art\", \"AI Art\"], yticklabels=[\"Human Art\", \"AI Art\"])\n",
        "plt.xlabel(\"Predicted\")\n",
        "plt.ylabel(\"Actual\")\n",
        "plt.title(\"Confusion Matrix\")\n",
        "plt.show()\n"
      ],
      "metadata": {
        "colab": {
          "base_uri": "https://localhost:8080/",
          "height": 811
        },
        "id": "7ua2MihZwvje",
        "outputId": "70329765-2425-44e1-ef25-d0cd91257c92"
      },
      "execution_count": null,
      "outputs": [
        {
          "output_type": "stream",
          "name": "stdout",
          "text": [
            "Mounted at /content/drive\n"
          ]
        },
        {
          "output_type": "stream",
          "name": "stderr",
          "text": [
            "WARNING:absl:Compiled the loaded model, but the compiled metrics have yet to be built. `model.compile_metrics` will be empty until you train or evaluate the model.\n"
          ]
        },
        {
          "output_type": "stream",
          "name": "stdout",
          "text": [
            "\u001b[1m20/20\u001b[0m \u001b[32m━━━━━━━━━━━━━━━━━━━━\u001b[0m\u001b[37m\u001b[0m \u001b[1m25s\u001b[0m 1s/step - accuracy: 0.9522 - loss: 0.1452\n",
            "Test Accuracy: 95.84%\n",
            "Test Loss: 0.1337\n",
            "\u001b[1m20/20\u001b[0m \u001b[32m━━━━━━━━━━━━━━━━━━━━\u001b[0m\u001b[37m\u001b[0m \u001b[1m18s\u001b[0m 892ms/step\n",
            "\n",
            "Classification Report:\n",
            "              precision    recall  f1-score   support\n",
            "\n",
            "   Human Art       0.92      0.98      0.95       254\n",
            "      AI Art       0.99      0.94      0.96       371\n",
            "\n",
            "    accuracy                           0.96       625\n",
            "   macro avg       0.95      0.96      0.96       625\n",
            "weighted avg       0.96      0.96      0.96       625\n",
            "\n"
          ]
        },
        {
          "output_type": "display_data",
          "data": {
            "text/plain": [
              "<Figure size 600x500 with 2 Axes>"
            ],
            "image/png": "[encoded data removed]"
          },
          "metadata": {}
        }
      ]
    },
    {
      "cell_type": "code",
      "execution_count": null,
      "metadata": {
        "colab": {
          "base_uri": "https://localhost:8080/",
          "height": 811
        },
        "id": "TznLc22_JtTX",
        "outputId": "a5880116-d15c-4ece-f736-a9e2b05184ed"
      },
      "outputs": [
        {
          "output_type": "stream",
          "name": "stdout",
          "text": [
            "Mounted at /content/drive\n"
          ]
        },
        {
          "output_type": "stream",
          "name": "stderr",
          "text": [
            "WARNING:absl:Compiled the loaded model, but the compiled metrics have yet to be built. `model.compile_metrics` will be empty until you train or evaluate the model.\n"
          ]
        },
        {
          "output_type": "stream",
          "name": "stdout",
          "text": [
            "\u001b[1m20/20\u001b[0m \u001b[32m━━━━━━━━━━━━━━━━━━━━\u001b[0m\u001b[37m\u001b[0m \u001b[1m34s\u001b[0m 2s/step - accuracy: 0.8756 - loss: 0.2749\n",
            "Test Accuracy: 88.16%\n",
            "Test Loss: 0.2677\n",
            "\u001b[1m20/20\u001b[0m \u001b[32m━━━━━━━━━━━━━━━━━━━━\u001b[0m\u001b[37m\u001b[0m \u001b[1m41s\u001b[0m 2s/step\n",
            "\n",
            "Classification Report:\n",
            "              precision    recall  f1-score   support\n",
            "\n",
            "   Human Art       0.81      0.92      0.86       254\n",
            "      AI Art       0.94      0.85      0.90       371\n",
            "\n",
            "    accuracy                           0.88       625\n",
            "   macro avg       0.88      0.89      0.88       625\n",
            "weighted avg       0.89      0.88      0.88       625\n",
            "\n"
          ]
        },
        {
          "output_type": "display_data",
          "data": {
            "text/plain": [
              "<Figure size 600x500 with 2 Axes>"
            ],
            "image/png": "[encoded data removed]"
          },
          "metadata": {}
        }
      ],
      "source": [
        "#ACCURACY MEASUREMENTS FOR GE-CNN MODEL\n",
        "import numpy as np\n",
        "import matplotlib.pyplot as plt\n",
        "import seaborn as sns\n",
        "from tensorflow.keras.models import load_model\n",
        "from sklearn.metrics import classification_report, confusion_matrix\n",
        "from google.colab import drive\n",
        "\n",
        "drive.mount('/content/drive')\n",
        "\n",
        "\n",
        "# Load the trained model\n",
        "model_path = \"/content/drive/MyDrive/ai_art_classifier_gcnn.h5\"\n",
        "model = load_model(model_path)\n",
        "\n",
        "# Load test dataset\n",
        "X_test = np.load(\"/content/drive/MyDrive/X_test.npy\")\n",
        "y_test = np.load(\"/content/drive/MyDrive/y_test.npy\")\n",
        "\n",
        "# Evaluate model performance\n",
        "test_loss, test_accuracy = model.evaluate(X_test, y_test)\n",
        "print(f\"Test Accuracy: {test_accuracy * 100:.2f}%\")\n",
        "print(f\"Test Loss: {test_loss:.4f}\")\n",
        "\n",
        "# Make predictions\n",
        "y_pred_prob = model.predict(X_test)  # Get probability scores\n",
        "y_pred = (y_pred_prob >= 0.5).astype(int)  # Convert probabilities to binary labels\n",
        "\n",
        "# Generate classification report\n",
        "print(\"\\nClassification Report:\")\n",
        "print(classification_report(y_test, y_pred, target_names=[\"Human Art\", \"AI Art\"]))\n",
        "\n",
        "# Compute confusion matrix\n",
        "cm = confusion_matrix(y_test, y_pred)\n",
        "\n",
        "# Plot confusion matrix\n",
        "plt.figure(figsize=(6, 5))\n",
        "sns.heatmap(cm, annot=True, fmt=\"d\", cmap=\"Blues\", xticklabels=[\"Human Art\", \"AI Art\"], yticklabels=[\"Human Art\", \"AI Art\"])\n",
        "plt.xlabel(\"Predicted\")\n",
        "plt.ylabel(\"Actual\")\n",
        "plt.title(\"Confusion Matrix\")\n",
        "plt.show()\n"
      ]
    },
    {
      "cell_type": "code",
      "execution_count": null,
      "metadata": {
        "id": "kKwFW9OSJoMU"
      },
      "outputs": [],
      "source": [
        "#TESTING MODEL WITH AN IMAGE\n",
        "import numpy as np\n",
        "import cv2\n",
        "import tensorflow as tf\n",
        "import matplotlib.pyplot as plt\n",
        "from tensorflow.keras.models import load_model\n",
        "from google.colab import files\n",
        "from PIL import Image\n",
        "from google.colab import drive\n",
        "\n",
        "drive.mount('/content/drive')\n",
        "\n",
        "print(\"CNN MODEL PREDICTION\")\n",
        "# Load the trained model\n",
        "model_path = \"/content/drive/MyDrive/ai_art_classifier.h5\"\n",
        "model = load_model(model_path)\n",
        "\n",
        "# Upload an image\n",
        "uploaded = files.upload()\n",
        "\n",
        "# Get the uploaded image filename\n",
        "image_filename = list(uploaded.keys())[0]\n",
        "\n",
        "# Load and preprocess the image\n",
        "IMG_SIZE = 224  # Ensure it matches the model input size\n",
        "\n",
        "def preprocess_image(image_path):\n",
        "    \"\"\"Load an image, resize, normalize, and prepare for model prediction.\"\"\"\n",
        "    img = Image.open(image_path).convert(\"RGB\")  # Ensure 3 channels\n",
        "    img = img.resize((IMG_SIZE, IMG_SIZE))  # Resize to match model input\n",
        "    img_array = np.array(img) / 255.0  # Normalize pixel values (0-1)\n",
        "    img_array = np.expand_dims(img_array, axis=0)  # Add batch dimension\n",
        "    return img_array, img  # Return both array and original image for display\n",
        "\n",
        "# Preprocess the uploaded image\n",
        "image_array, original_image = preprocess_image(image_filename)\n",
        "\n",
        "# Make prediction\n",
        "y_pred_prob = model.predict(image_array)[0][0]  # Get probability score\n",
        "\n",
        "# Convert probability to label\n",
        "predicted_label = \"AI Art\" if y_pred_prob >= 0.5 else \"Human Art\"\n",
        "confidence = (y_pred_prob if y_pred_prob >= 0.5 else 1 - y_pred_prob) * 100  # Convert to percentage\n",
        "\n",
        "# Display the image with prediction\n",
        "plt.imshow(original_image)\n",
        "plt.axis(\"off\")\n",
        "plt.title(f\"Prediction: {predicted_label}\\nConfidence: {confidence:.2f}%\")  # Add percentage symbol\n",
        "plt.show()\n",
        "\n",
        "\n",
        "print(\"\\nGE-CNN MODEL PREDICTION\")\n",
        "\n",
        "model_path = \"/content/drive/MyDrive/ai_art_classifier_gcnn.h5\"\n",
        "model = load_model(model_path)\n",
        "\n",
        "\n",
        "# Make prediction\n",
        "y_pred_prob = model.predict(image_array)[0][0]  # Get probability score\n",
        "\n",
        "# Convert probability to label\n",
        "predicted_label = \"AI Art\" if y_pred_prob >= 0.5 else \"Human Art\"\n",
        "confidence = (y_pred_prob if y_pred_prob >= 0.5 else 1 - y_pred_prob) * 100  # Convert to percentage\n",
        "\n",
        "# Display the image with prediction\n",
        "plt.imshow(original_image)\n",
        "plt.axis(\"off\")\n",
        "plt.title(f\"Prediction: {predicted_label}\\nConfidence: {confidence:.2f}%\")  # Add percentage symbol\n",
        "plt.show()\n"
      ]
    },
    {
      "cell_type": "code",
      "execution_count": null,
      "metadata": {
        "id": "skuuRQZVoNwm"
      },
      "outputs": [],
      "source": [
        "#CONVERT THE MODEL TO TFLITE FOR FLUTTER\n",
        "\n",
        "import tensorflow as tf\n",
        "from google.colab import drive\n",
        "from tensorflow.keras.models import load_model\n",
        "\n",
        "drive.mount('/content/drive')\n",
        "\n",
        "model_path = \"/content/drive/MyDrive/ai_art_classifier.h5\"\n",
        "model = load_model(model_path)\n",
        "\n",
        "# Convert to .tflite\n",
        "converter = tf.lite.TFLiteConverter.from_keras_model(model)\n",
        "tflite_model = converter.convert()\n",
        "\n",
        "# Save the .tflite model\n",
        "with open(\"/content/drive/MyDrive/ai_art_classifier.tflite\", \"wb\") as f:\n",
        "    f.write(tflite_model)\n",
        "\n",
        "print(\"Model converted to ai_art_classifier.tflite and saved successfully!\")\n"
      ]
    },
    {
      "cell_type": "code",
      "execution_count": null,
      "metadata": {
        "colab": {
          "base_uri": "https://localhost:8080/"
        },
        "id": "DXpIm5C-XNYb",
        "outputId": "26d7fb03-3b26-4b08-8988-144a2da08bd9"
      },
      "outputs": [
        {
          "name": "stdout",
          "output_type": "stream",
          "text": [
            "Drive already mounted at /content/drive; to attempt to forcibly remount, call drive.mount(\"/content/drive\", force_remount=True).\n",
            "TFLite model saved successfully at /content/drive/MyDrive/gradcam_model.tflite\n"
          ]
        }
      ],
      "source": [
        "# Save the TFLite model to Google Drive\n",
        "from google.colab import drive\n",
        "\n",
        "# Mount Google Drive\n",
        "drive.mount('/content/drive')\n",
        "\n",
        "# Define the save path\n",
        "save_path = \"/content/drive/MyDrive/gradcam_model.tflite\"\n",
        "\n",
        "# Save the model to Google Drive\n",
        "with open(save_path, \"wb\") as f:\n",
        "    f.write(tflite_model)\n",
        "\n",
        "print(f\"TFLite model saved successfully at {save_path}\")\n"
      ]
    },
    {
      "cell_type": "code",
      "execution_count": null,
      "metadata": {
        "colab": {
          "base_uri": "https://localhost:8080/"
        },
        "collapsed": true,
        "id": "d5b9-1VV9lld",
        "outputId": "f662baa1-a206-4629-bb2e-5ff08f031461"
      },
      "outputs": [
        {
          "name": "stdout",
          "output_type": "stream",
          "text": [
            "Requirement already satisfied: tensorflow in /usr/local/lib/python3.11/dist-packages (2.18.0)\n",
            "Requirement already satisfied: absl-py>=1.0.0 in /usr/local/lib/python3.11/dist-packages (from tensorflow) (1.4.0)\n",
            "Requirement already satisfied: astunparse>=1.6.0 in /usr/local/lib/python3.11/dist-packages (from tensorflow) (1.6.3)\n",
            "Requirement already satisfied: flatbuffers>=24.3.25 in /usr/local/lib/python3.11/dist-packages (from tensorflow) (25.2.10)\n",
            "Requirement already satisfied: gast!=0.5.0,!=0.5.1,!=0.5.2,>=0.2.1 in /usr/local/lib/python3.11/dist-packages (from tensorflow) (0.6.0)\n",
            "Requirement already satisfied: google-pasta>=0.1.1 in /usr/local/lib/python3.11/dist-packages (from tensorflow) (0.2.0)\n",
            "Requirement already satisfied: libclang>=13.0.0 in /usr/local/lib/python3.11/dist-packages (from tensorflow) (18.1.1)\n",
            "Requirement already satisfied: opt-einsum>=2.3.2 in /usr/local/lib/python3.11/dist-packages (from tensorflow) (3.4.0)\n",
            "Requirement already satisfied: packaging in /usr/local/lib/python3.11/dist-packages (from tensorflow) (24.2)\n",
            "Requirement already satisfied: protobuf!=4.21.0,!=4.21.1,!=4.21.2,!=4.21.3,!=4.21.4,!=4.21.5,<6.0.0dev,>=3.20.3 in /usr/local/lib/python3.11/dist-packages (from tensorflow) (5.29.4)\n",
            "Requirement already satisfied: requests<3,>=2.21.0 in /usr/local/lib/python3.11/dist-packages (from tensorflow) (2.32.3)\n",
            "Requirement already satisfied: setuptools in /usr/local/lib/python3.11/dist-packages (from tensorflow) (75.2.0)\n",
            "Requirement already satisfied: six>=1.12.0 in /usr/local/lib/python3.11/dist-packages (from tensorflow) (1.17.0)\n",
            "Requirement already satisfied: termcolor>=1.1.0 in /usr/local/lib/python3.11/dist-packages (from tensorflow) (3.0.1)\n",
            "Requirement already satisfied: typing-extensions>=3.6.6 in /usr/local/lib/python3.11/dist-packages (from tensorflow) (4.13.2)\n",
            "Requirement already satisfied: wrapt>=1.11.0 in /usr/local/lib/python3.11/dist-packages (from tensorflow) (1.17.2)\n",
            "Requirement already satisfied: grpcio<2.0,>=1.24.3 in /usr/local/lib/python3.11/dist-packages (from tensorflow) (1.71.0)\n",
            "Requirement already satisfied: tensorboard<2.19,>=2.18 in /usr/local/lib/python3.11/dist-packages (from tensorflow) (2.18.0)\n",
            "Requirement already satisfied: keras>=3.5.0 in /usr/local/lib/python3.11/dist-packages (from tensorflow) (3.8.0)\n",
            "Requirement already satisfied: numpy<2.1.0,>=1.26.0 in /usr/local/lib/python3.11/dist-packages (from tensorflow) (2.0.2)\n",
            "Requirement already satisfied: h5py>=3.11.0 in /usr/local/lib/python3.11/dist-packages (from tensorflow) (3.13.0)\n",
            "Requirement already satisfied: ml-dtypes<0.5.0,>=0.4.0 in /usr/local/lib/python3.11/dist-packages (from tensorflow) (0.4.1)\n",
            "Requirement already satisfied: tensorflow-io-gcs-filesystem>=0.23.1 in /usr/local/lib/python3.11/dist-packages (from tensorflow) (0.37.1)\n",
            "Requirement already satisfied: wheel<1.0,>=0.23.0 in /usr/local/lib/python3.11/dist-packages (from astunparse>=1.6.0->tensorflow) (0.45.1)\n",
            "Requirement already satisfied: rich in /usr/local/lib/python3.11/dist-packages (from keras>=3.5.0->tensorflow) (13.9.4)\n",
            "Requirement already satisfied: namex in /usr/local/lib/python3.11/dist-packages (from keras>=3.5.0->tensorflow) (0.0.8)\n",
            "Requirement already satisfied: optree in /usr/local/lib/python3.11/dist-packages (from keras>=3.5.0->tensorflow) (0.15.0)\n",
            "Requirement already satisfied: charset-normalizer<4,>=2 in /usr/local/lib/python3.11/dist-packages (from requests<3,>=2.21.0->tensorflow) (3.4.1)\n",
            "Requirement already satisfied: idna<4,>=2.5 in /usr/local/lib/python3.11/dist-packages (from requests<3,>=2.21.0->tensorflow) (3.10)\n",
            "Requirement already satisfied: urllib3<3,>=1.21.1 in /usr/local/lib/python3.11/dist-packages (from requests<3,>=2.21.0->tensorflow) (2.3.0)\n",
            "Requirement already satisfied: certifi>=2017.4.17 in /usr/local/lib/python3.11/dist-packages (from requests<3,>=2.21.0->tensorflow) (2025.1.31)\n",
            "Requirement already satisfied: markdown>=2.6.8 in /usr/local/lib/python3.11/dist-packages (from tensorboard<2.19,>=2.18->tensorflow) (3.8)\n",
            "Requirement already satisfied: tensorboard-data-server<0.8.0,>=0.7.0 in /usr/local/lib/python3.11/dist-packages (from tensorboard<2.19,>=2.18->tensorflow) (0.7.2)\n",
            "Requirement already satisfied: werkzeug>=1.0.1 in /usr/local/lib/python3.11/dist-packages (from tensorboard<2.19,>=2.18->tensorflow) (3.1.3)\n",
            "Requirement already satisfied: MarkupSafe>=2.1.1 in /usr/local/lib/python3.11/dist-packages (from werkzeug>=1.0.1->tensorboard<2.19,>=2.18->tensorflow) (3.0.2)\n",
            "Requirement already satisfied: markdown-it-py>=2.2.0 in /usr/local/lib/python3.11/dist-packages (from rich->keras>=3.5.0->tensorflow) (3.0.0)\n",
            "Requirement already satisfied: pygments<3.0.0,>=2.13.0 in /usr/local/lib/python3.11/dist-packages (from rich->keras>=3.5.0->tensorflow) (2.18.0)\n",
            "Requirement already satisfied: mdurl~=0.1 in /usr/local/lib/python3.11/dist-packages (from markdown-it-py>=2.2.0->rich->keras>=3.5.0->tensorflow) (0.1.2)\n",
            "Requirement already satisfied: opencv-python in /usr/local/lib/python3.11/dist-packages (4.11.0.86)\n",
            "Requirement already satisfied: numpy>=1.21.2 in /usr/local/lib/python3.11/dist-packages (from opencv-python) (2.0.2)\n",
            "Requirement already satisfied: matplotlib in /usr/local/lib/python3.11/dist-packages (3.10.0)\n",
            "Requirement already satisfied: contourpy>=1.0.1 in /usr/local/lib/python3.11/dist-packages (from matplotlib) (1.3.2)\n",
            "Requirement already satisfied: cycler>=0.10 in /usr/local/lib/python3.11/dist-packages (from matplotlib) (0.12.1)\n",
            "Requirement already satisfied: fonttools>=4.22.0 in /usr/local/lib/python3.11/dist-packages (from matplotlib) (4.57.0)\n",
            "Requirement already satisfied: kiwisolver>=1.3.1 in /usr/local/lib/python3.11/dist-packages (from matplotlib) (1.4.8)\n",
            "Requirement already satisfied: numpy>=1.23 in /usr/local/lib/python3.11/dist-packages (from matplotlib) (2.0.2)\n",
            "Requirement already satisfied: packaging>=20.0 in /usr/local/lib/python3.11/dist-packages (from matplotlib) (24.2)\n",
            "Requirement already satisfied: pillow>=8 in /usr/local/lib/python3.11/dist-packages (from matplotlib) (11.1.0)\n",
            "Requirement already satisfied: pyparsing>=2.3.1 in /usr/local/lib/python3.11/dist-packages (from matplotlib) (3.2.3)\n",
            "Requirement already satisfied: python-dateutil>=2.7 in /usr/local/lib/python3.11/dist-packages (from matplotlib) (2.8.2)\n",
            "Requirement already satisfied: six>=1.5 in /usr/local/lib/python3.11/dist-packages (from python-dateutil>=2.7->matplotlib) (1.17.0)\n",
            "Requirement already satisfied: Pillow in /usr/local/lib/python3.11/dist-packages (11.1.0)\n"
          ]
        }
      ],
      "source": [
        "# Install TensorFlow and other required libraries\n",
        "!pip install tensorflow\n",
        "!pip install opencv-python\n",
        "!pip install matplotlib\n",
        "!pip install Pillow\n"
      ]
    },
    {
      "cell_type": "code",
      "execution_count": null,
      "metadata": {
        "id": "uHFWOdAC9rQV"
      },
      "outputs": [],
      "source": [
        "'/content/drive/MyDrive/sample_image.jpg'"
      ]
    },
    {
      "cell_type": "markdown",
      "metadata": {
        "id": "tKPgn2vG_LzP"
      },
      "source": []
    }
  ],
  "metadata": {
    "colab": {
      "provenance": []
    },
    "kernelspec": {
      "display_name": "Python 3",
      "name": "python3"
    },
    "language_info": {
      "name": "python"
    }
  },
  "nbformat": 4,
  "nbformat_minor": 0
}